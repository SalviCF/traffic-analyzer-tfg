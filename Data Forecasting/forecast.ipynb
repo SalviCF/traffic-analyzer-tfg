{
 "cells": [
  {
   "cell_type": "code",
   "execution_count": 1,
   "id": "403f8a7a",
   "metadata": {},
   "outputs": [
    {
     "name": "stderr",
     "output_type": "stream",
     "text": [
      "/home/salva/anaconda3/envs/traffic-analyzer/lib/python3.8/site-packages/tqdm/auto.py:22: TqdmWarning: IProgress not found. Please update jupyter and ipywidgets. See https://ipywidgets.readthedocs.io/en/stable/user_install.html\n",
      "  from .autonotebook import tqdm as notebook_tqdm\n"
     ]
    }
   ],
   "source": [
    "import matplotlib.pyplot as plt\n",
    "import numpy as np\n",
    "import pandas as pd\n",
    "from tsai.all import *\n",
    "from tsai.inference import load_learner"
   ]
  },
  {
   "cell_type": "markdown",
   "id": "a1221901",
   "metadata": {},
   "source": [
    "> En este *notebook* se entrena un modelo LSTM para predecir las 24 horas siguientes."
   ]
  },
  {
   "cell_type": "markdown",
   "id": "185199ad",
   "metadata": {},
   "source": [
    "### Importa los datos"
   ]
  },
  {
   "cell_type": "code",
   "execution_count": 2,
   "id": "8aa11172",
   "metadata": {},
   "outputs": [],
   "source": [
    "df = pd.read_csv(\"ts_tv08.csv\")\n",
    "df[\"datetime\"] = pd.to_datetime(df[\"datetime\"])\n",
    "df = df.set_index(\"datetime\")\n",
    "df = df.resample(\"5T\").median().ffill().astype(float)"
   ]
  },
  {
   "cell_type": "markdown",
   "id": "e2135f00",
   "metadata": {},
   "source": [
    "### Entrena el modelo para predecir 24 horas"
   ]
  },
  {
   "cell_type": "code",
   "execution_count": null,
   "id": "3dc070ba",
   "metadata": {},
   "outputs": [
    {
     "data": {
      "image/png": "[encoded data removed]",
      "text/plain": [
       "<Figure size 1600x50 with 1 Axes>"
      ]
     },
     "metadata": {},
     "output_type": "display_data"
    },
    {
     "data": {
      "text/html": [
       "\n",
       "<style>\n",
       "    /* Turns off some styling */\n",
       "    progress {\n",
       "        /* gets rid of default border in Firefox and Opera. */\n",
       "        border: none;\n",
       "        /* Needs to be in here for Safari polyfill so background images work as expected. */\n",
       "        background-size: auto;\n",
       "    }\n",
       "    progress:not([value]), progress:not([value])::-webkit-progress-bar {\n",
       "        background: repeating-linear-gradient(45deg, #7e7e7e, #7e7e7e 10px, #5c5c5c 10px, #5c5c5c 20px);\n",
       "    }\n",
       "    .progress-bar-interrupted, .progress-bar-interrupted::-webkit-progress-bar {\n",
       "        background: #F44336;\n",
       "    }\n",
       "</style>\n"
      ],
      "text/plain": [
       "<IPython.core.display.HTML object>"
      ]
     },
     "metadata": {},
     "output_type": "display_data"
    },
    {
     "data": {
      "text/html": [
       "\n",
       "    <div>\n",
       "      <progress value='0' class='' max='2' style='width:300px; height:20px; vertical-align: middle;'></progress>\n",
       "      0.00% [0/2 00:00&lt;?]\n",
       "    </div>\n",
       "    \n",
       "<table border=\"1\" class=\"dataframe\">\n",
       "  <thead>\n",
       "    <tr style=\"text-align: left;\">\n",
       "      <th>epoch</th>\n",
       "      <th>train_loss</th>\n",
       "      <th>valid_loss</th>\n",
       "      <th>mae</th>\n",
       "      <th>time</th>\n",
       "    </tr>\n",
       "  </thead>\n",
       "  <tbody>\n",
       "  </tbody>\n",
       "</table><p>\n",
       "\n",
       "    <div>\n",
       "      <progress value='1' class='' max='49' style='width:300px; height:20px; vertical-align: middle;'></progress>\n",
       "      2.04% [1/49 00:10&lt;08:34]\n",
       "    </div>\n",
       "    "
      ],
      "text/plain": [
       "<IPython.core.display.HTML object>"
      ]
     },
     "metadata": {},
     "output_type": "display_data"
    }
   ],
   "source": [
    "ts = df\n",
    "window_len = 10\n",
    "horizon = 10\n",
    "X, y = SlidingWindow(window_len=window_len, horizon=horizon)(ts)\n",
    "splits = TimeSplitter()(y) \n",
    "batch_tfms = TSStandardize()\n",
    "fcst = TSForecaster(X, y, splits=splits, batch_tfms=batch_tfms, bs=64, arch=LSTMPlus, metrics=mae, cbs=ShowGraph())\n",
    "fcst.fit_one_cycle(2, 1e-3)\n",
    "fcst.export(\"tv-08.pkl\")\n",
    "df = df.astype(int)"
   ]
  },
  {
   "cell_type": "markdown",
   "id": "3fbae70b",
   "metadata": {},
   "source": [
    "### Predice 24 horas siguientes"
   ]
  },
  {
   "cell_type": "code",
   "execution_count": null,
   "id": "3761be1d",
   "metadata": {},
   "outputs": [],
   "source": [
    "fcst = load_learner(\"tv-08.pkl\", cpu=False)\n",
    "X_test = array([[(df[\"n_vehicles\"][-window_len:]).values]])\n",
    "raw_preds, target, preds = fcst.get_X_preds(X_test)\n",
    "preds = [int(item) for item in preds[0]]"
   ]
  },
  {
   "cell_type": "markdown",
   "id": "3324dee5",
   "metadata": {},
   "source": [
    "### Gráfica de las predicciones"
   ]
  },
  {
   "cell_type": "code",
   "execution_count": null,
   "id": "44fc4c15",
   "metadata": {},
   "outputs": [],
   "source": [
    "fig, axis = plt.subplots(facecolor=\"white\", figsize=(18, 8))\n",
    "axis.grid()\n",
    "axis.set_xlabel(xlabel=\"Fecha\")\n",
    "axis.set_ylabel(ylabel=\"Vehículos\")\n",
    "axis.set_facecolor(\"gainsboro\")\n",
    "last_date = df.index.max()\n",
    "freq = \"5T\"\n",
    "horizon = len(preds)\n",
    "new_dates = pd.date_range(start=last_date, periods=horizon + 1, freq=freq, closed=\"right\")\n",
    "axis.plot(df, label=\"observación\")\n",
    "axis.plot(new_dates, preds, color=\"red\", label=\"predicción\")"
   ]
  }
 ],
 "metadata": {
  "kernelspec": {
   "display_name": "Python [conda env:traffic-analyzer]",
   "language": "python",
   "name": "conda-env-traffic-analyzer-py"
  },
  "language_info": {
   "codemirror_mode": {
    "name": "ipython",
    "version": 3
   },
   "file_extension": ".py",
   "mimetype": "text/x-python",
   "name": "python",
   "nbconvert_exporter": "python",
   "pygments_lexer": "ipython3",
   "version": "3.8.13"
  }
 },
 "nbformat": 4,
 "nbformat_minor": 5
}
