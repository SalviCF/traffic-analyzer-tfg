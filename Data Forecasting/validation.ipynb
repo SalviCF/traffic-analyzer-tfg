{
 "cells": [
  {
   "cell_type": "code",
   "execution_count": null,
   "id": "becb9684",
   "metadata": {},
   "outputs": [],
   "source": [
    "import pandas as pd\n",
    "import matplotlib.pyplot as plt\n",
    "import numpy as np\n",
    "import tensorflow as tf\n",
    "import IPython\n",
    "import IPython.display\n",
    "import os\n",
    "import datetime"
   ]
  },
  {
   "cell_type": "markdown",
   "id": "1a203bd3",
   "metadata": {},
   "source": [
    "> En este *notebook* se agregan los datos para obtener una observación cada 5 minutos. Luego se analiza la serie temporal. Finalmente se entrena un modelo LSTM *multi-step single-shot* y se evalúa su rendimiento."
   ]
  },
  {
   "cell_type": "markdown",
   "id": "94714eaf",
   "metadata": {},
   "source": [
    "### Importa el dataset"
   ]
  },
  {
   "cell_type": "code",
   "execution_count": null,
   "id": "4442ada2",
   "metadata": {},
   "outputs": [],
   "source": [
    "df = pd.read_csv(\"ts_tv08.csv\")\n",
    "df[\"datetime\"] = pd.to_datetime(df[\"datetime\"])\n",
    "df = df.set_index(\"datetime\")"
   ]
  },
  {
   "cell_type": "markdown",
   "id": "fb2bd62a",
   "metadata": {},
   "source": [
    "### Visualiza el dataset"
   ]
  },
  {
   "cell_type": "code",
   "execution_count": null,
   "id": "8b60fdf3",
   "metadata": {},
   "outputs": [],
   "source": [
    "fig, axis = plt.subplots(facecolor=\"white\", figsize=(18, 8))\n",
    "\n",
    "axis.set_xlabel(xlabel=\"Date\", fontsize=18)\n",
    "axis.set_ylabel(ylabel=\"Vehicles\", fontsize=18)    \n",
    "axis.grid(color=\"white\")\n",
    "axis.set_facecolor(\"gainsboro\")\n",
    "axis.plot(df[\"n_vehicles\"])"
   ]
  },
  {
   "cell_type": "markdown",
   "id": "cdde34fd",
   "metadata": {},
   "source": [
    "### Agrego los datos cada 5 minutos usando la mediana"
   ]
  },
  {
   "cell_type": "code",
   "execution_count": null,
   "id": "6e66aa4c",
   "metadata": {},
   "outputs": [],
   "source": [
    "df = df.resample(\"5T\").median().ffill().astype(int)"
   ]
  },
  {
   "cell_type": "markdown",
   "id": "dafbacc9",
   "metadata": {},
   "source": [
    "### Describe algunos valores estadísticos"
   ]
  },
  {
   "cell_type": "code",
   "execution_count": null,
   "id": "c43bf059",
   "metadata": {},
   "outputs": [],
   "source": [
    "df.describe().transpose()"
   ]
  },
  {
   "cell_type": "markdown",
   "id": "8ea838cd",
   "metadata": {},
   "source": [
    "### Divide los datos en los conjuntos: `train`, `validation` y `test`"
   ]
  },
  {
   "cell_type": "markdown",
   "id": "ca063b43",
   "metadata": {},
   "source": [
    "> Los datos no se mezclan a la hora de hacer la división. Se necesitan los datos de forma consecutiva."
   ]
  },
  {
   "cell_type": "code",
   "execution_count": null,
   "id": "925cf3ba",
   "metadata": {},
   "outputs": [],
   "source": [
    "column_indices = {name: i for i, name in enumerate(df.columns)}\n",
    "\n",
    "n = len(df)\n",
    " \n",
    "train_df = df[0:int(n*0.7)] \n",
    "val_df = df[int(n*0.7):int(n*0.9)] \n",
    "test_df = df[int(n*0.9):]\n",
    "\n",
    "num_features = df.shape[1]"
   ]
  },
  {
   "cell_type": "markdown",
   "id": "6a93b202",
   "metadata": {},
   "source": [
    "> Es muy importante normalizar los datos."
   ]
  },
  {
   "cell_type": "code",
   "execution_count": null,
   "id": "77fdeb90",
   "metadata": {},
   "outputs": [],
   "source": [
    "train_mean = train_df.mean()\n",
    "train_std = train_df.std()\n",
    "\n",
    "train_df = (train_df - train_mean) / train_std\n",
    "val_df = (val_df - train_mean) / train_std\n",
    "test_df = (test_df - train_mean) / train_std"
   ]
  },
  {
   "cell_type": "markdown",
   "id": "30bc922b",
   "metadata": {},
   "source": [
    "### Comprueba que la serie es estacionaria"
   ]
  },
  {
   "cell_type": "code",
   "execution_count": null,
   "id": "4980dcc6",
   "metadata": {},
   "outputs": [],
   "source": [
    "from statsmodels.tsa.stattools import adfuller\n",
    "\n",
    "\n",
    "def adf_check(time_series):\n",
    "    result = adfuller(time_series)\n",
    "    print(\"Augmented Dicky-Fuller Test\")\n",
    "    labels = ['ADF Test Statistic', 'p-value', '# of lags','# of observations used']\n",
    "    \n",
    "    for value, label in zip(result, labels):\n",
    "        print(label + \" : \" + str(value))\n",
    "        \n",
    "    if result[1] <= 0.05:\n",
    "        print(\"Strong evidence against null hypothesis.\\nReject Null Hypothesis.\\nData has no unit root and is stationary.\")\n",
    "    else:\n",
    "        print(\"Weak evidence against null hypothesis.\\nFail to reject Null Hypothesis.\\nData has a unit root and is non-stationary.\")\n",
    "\n",
    "adf_check(df['n_vehicles'][:10000])"
   ]
  },
  {
   "cell_type": "markdown",
   "id": "6c04cb43",
   "metadata": {},
   "source": [
    "### Clase Data Window"
   ]
  },
  {
   "cell_type": "code",
   "execution_count": null,
   "id": "c16ef86c",
   "metadata": {},
   "outputs": [],
   "source": [
    "class WindowGenerator():\n",
    "  def __init__(self, input_width, label_width, shift,\n",
    "               train_df=train_df, val_df=val_df, test_df=test_df,\n",
    "               label_columns=None):\n",
    "    # Store the raw data.\n",
    "    self.train_df = train_df\n",
    "    self.val_df = val_df\n",
    "    self.test_df = test_df\n",
    "\n",
    "    # Work out the label column indices.\n",
    "    self.label_columns = label_columns\n",
    "    if label_columns is not None:\n",
    "      self.label_columns_indices = {name: i for i, name in\n",
    "                                    enumerate(label_columns)}\n",
    "    self.column_indices = {name: i for i, name in\n",
    "                           enumerate(train_df.columns)}\n",
    "\n",
    "    # Work out the window parameters.\n",
    "    self.input_width = input_width\n",
    "    self.label_width = label_width\n",
    "    self.shift = shift\n",
    "\n",
    "    self.total_window_size = input_width + shift\n",
    "\n",
    "    self.input_slice = slice(0, input_width)\n",
    "    self.input_indices = np.arange(self.total_window_size)[self.input_slice]\n",
    "\n",
    "    self.label_start = self.total_window_size - self.label_width\n",
    "    self.labels_slice = slice(self.label_start, None)\n",
    "    self.label_indices = np.arange(self.total_window_size)[self.labels_slice]\n",
    "\n",
    "  def __repr__(self):\n",
    "    return '\\n'.join([\n",
    "        f'Total window size: {self.total_window_size}',\n",
    "        f'Input indices: {self.input_indices}',\n",
    "        f'Label indices: {self.label_indices}',\n",
    "        f'Label column name(s): {self.label_columns}'])\n"
   ]
  },
  {
   "cell_type": "markdown",
   "id": "7f0325c3",
   "metadata": {},
   "source": [
    "### Split Window"
   ]
  },
  {
   "cell_type": "code",
   "execution_count": null,
   "id": "b30a629a",
   "metadata": {},
   "outputs": [],
   "source": [
    "def split_window(self, features):\n",
    "  inputs = features[:, self.input_slice, :]\n",
    "  labels = features[:, self.labels_slice, :]\n",
    "  if self.label_columns is not None:\n",
    "    labels = tf.stack(\n",
    "        [labels[:, :, self.column_indices[name]] for name in self.label_columns],\n",
    "        axis=-1)\n",
    "\n",
    "  # Slicing doesn't preserve static shape information, so set the shapes\n",
    "  # manually. This way the `tf.data.Datasets` are easier to inspect.\n",
    "  inputs.set_shape([None, self.input_width, None])\n",
    "  labels.set_shape([None, self.label_width, None])\n",
    "\n",
    "  return inputs, labels\n",
    "\n",
    "WindowGenerator.split_window = split_window"
   ]
  },
  {
   "cell_type": "markdown",
   "id": "e255d86a",
   "metadata": {},
   "source": [
    "### Visualización"
   ]
  },
  {
   "cell_type": "code",
   "execution_count": null,
   "id": "70d0e334",
   "metadata": {},
   "outputs": [],
   "source": [
    "def plot(self, model=None, plot_col=\"n_vehicles\", max_subplots=3):\n",
    "  inputs, labels = self.example\n",
    "  plt.figure(figsize=(12, 8))\n",
    "  plot_col_index = self.column_indices[plot_col]\n",
    "  max_n = min(max_subplots, len(inputs))\n",
    "  for n in range(max_n):\n",
    "    plt.subplot(max_n, 1, n+1)\n",
    "    plt.ylabel(f'{plot_col} [normed]')\n",
    "    plt.plot(self.input_indices, inputs[n, :, plot_col_index],\n",
    "             label='Inputs', marker='.', zorder=-10)\n",
    "\n",
    "    if self.label_columns:\n",
    "      label_col_index = self.label_columns_indices.get(plot_col, None)\n",
    "    else:\n",
    "      label_col_index = plot_col_index\n",
    "\n",
    "    if label_col_index is None:\n",
    "      continue\n",
    "\n",
    "    plt.scatter(self.label_indices, labels[n, :, label_col_index],\n",
    "                edgecolors='k', label='Labels', c='#2ca02c', s=64)\n",
    "    if model is not None:\n",
    "      predictions = model(inputs)\n",
    "      plt.scatter(self.label_indices, predictions[n, :, label_col_index],\n",
    "                  marker='X', edgecolors='k', label='Predictions',\n",
    "                  c='#ff7f0e', s=64)\n",
    "\n",
    "    if n == 0:\n",
    "      plt.legend()\n",
    "\n",
    "  plt.xlabel('Time [h]')\n",
    "\n",
    "WindowGenerator.plot = plot"
   ]
  },
  {
   "cell_type": "markdown",
   "id": "56b2503b",
   "metadata": {},
   "source": [
    "### Dataset de `TensorFlow`"
   ]
  },
  {
   "cell_type": "code",
   "execution_count": null,
   "id": "7925d0a9",
   "metadata": {},
   "outputs": [],
   "source": [
    "def make_dataset(self, data):\n",
    "  data = np.array(data, dtype=np.float32)\n",
    "  ds = tf.keras.utils.timeseries_dataset_from_array(\n",
    "      data=data,\n",
    "      targets=None,\n",
    "      sequence_length=self.total_window_size,\n",
    "      sequence_stride=1,\n",
    "      shuffle=True,\n",
    "      batch_size=32,)\n",
    "\n",
    "  ds = ds.map(self.split_window)\n",
    "\n",
    "  return ds\n",
    "\n",
    "WindowGenerator.make_dataset = make_dataset\n",
    "\n",
    "@property\n",
    "def train(self):\n",
    "  return self.make_dataset(self.train_df)\n",
    "\n",
    "@property\n",
    "def val(self):\n",
    "  return self.make_dataset(self.val_df)\n",
    "\n",
    "@property\n",
    "def test(self):\n",
    "  return self.make_dataset(self.test_df)\n",
    "\n",
    "@property\n",
    "def example(self):\n",
    "  \"\"\"Get and cache an example batch of `inputs, labels` for plotting.\"\"\"\n",
    "  result = getattr(self, '_example', None)\n",
    "  if result is None:\n",
    "    # No example batch was found, so get one from the `.train` dataset\n",
    "    result = next(iter(self.train))\n",
    "    # And cache it for next time\n",
    "    self._example = result\n",
    "  return result\n",
    "\n",
    "WindowGenerator.train = train\n",
    "WindowGenerator.val = val\n",
    "WindowGenerator.test = test\n",
    "WindowGenerator.example = example"
   ]
  },
  {
   "cell_type": "markdown",
   "id": "82b91ef8",
   "metadata": {},
   "source": [
    "### Pronóstico de series temporales *multi-step* directo"
   ]
  },
  {
   "cell_type": "markdown",
   "id": "d80c8e70",
   "metadata": {},
   "source": [
    "Predecir las 24 horas siguientes dada la semana anterior."
   ]
  },
  {
   "cell_type": "code",
   "execution_count": null,
   "id": "014ee967",
   "metadata": {},
   "outputs": [],
   "source": [
    "OUT_STEPS = 288 # (24*60)/5 = 288 puntos para representar 24 horas en grupos de 5 minutos\n",
    "multi_window = WindowGenerator(input_width=504, # 1,75 días\n",
    "                               label_width=OUT_STEPS,\n",
    "                               shift=OUT_STEPS)\n",
    "\n",
    "multi_window.plot()\n",
    "multi_window"
   ]
  },
  {
   "cell_type": "markdown",
   "id": "30316b5f",
   "metadata": {},
   "source": [
    "### Proceso de entrenamiento"
   ]
  },
  {
   "cell_type": "code",
   "execution_count": null,
   "id": "57df9d6c",
   "metadata": {},
   "outputs": [],
   "source": [
    "multi_val_performance = {}\n",
    "multi_performance = {}\n",
    "\n",
    "MAX_EPOCHS = 20\n",
    "\n",
    "def compile_and_fit(model, window, patience=2):\n",
    "  early_stopping = tf.keras.callbacks.EarlyStopping(monitor='val_loss',\n",
    "                                                    patience=patience,\n",
    "                                                    mode='min')\n",
    "\n",
    "  model.compile(loss=tf.keras.losses.MeanSquaredError(),\n",
    "                optimizer=tf.keras.optimizers.Adam(),\n",
    "                metrics=[tf.keras.metrics.MeanAbsoluteError()])\n",
    "\n",
    "  history = model.fit(window.train, epochs=MAX_EPOCHS,\n",
    "                      validation_data=window.val,\n",
    "                      callbacks=[early_stopping])\n",
    "  return history"
   ]
  },
  {
   "cell_type": "code",
   "execution_count": null,
   "id": "c759fc6f",
   "metadata": {},
   "outputs": [],
   "source": [
    "multi_lstm_model = tf.keras.Sequential([\n",
    "    # Shape [batch, time, features] => [batch, lstm_units].\n",
    "    # Adding more `lstm_units` just overfits more quickly.\n",
    "    tf.keras.layers.LSTM(32, return_sequences=False),\n",
    "    # Shape => [batch, out_steps*features].\n",
    "    tf.keras.layers.Dense(OUT_STEPS*num_features,\n",
    "                          kernel_initializer=tf.initializers.zeros()),\n",
    "    # Shape => [batch, out_steps, features].\n",
    "    tf.keras.layers.Reshape([OUT_STEPS, num_features])\n",
    "])\n",
    "\n",
    "history = compile_and_fit(multi_lstm_model, multi_window)\n",
    "\n",
    "IPython.display.clear_output()\n",
    "\n",
    "multi_val_performance['LSTM'] = multi_lstm_model.evaluate(multi_window.val)\n",
    "multi_performance['LSTM'] = multi_lstm_model.evaluate(multi_window.test, verbose=0)\n",
    "multi_window.plot(multi_lstm_model)\n"
   ]
  }
 ],
 "metadata": {
  "kernelspec": {
   "display_name": "Python [conda env:traffic-analyzer]",
   "language": "python",
   "name": "conda-env-traffic-analyzer-py"
  },
  "language_info": {
   "codemirror_mode": {
    "name": "ipython",
    "version": 3
   },
   "file_extension": ".py",
   "mimetype": "text/x-python",
   "name": "python",
   "nbconvert_exporter": "python",
   "pygments_lexer": "ipython3",
   "version": "3.8.13"
  }
 },
 "nbformat": 4,
 "nbformat_minor": 5
}
