{
 "cells": [
  {
   "cell_type": "markdown",
   "id": "6db6ebc9",
   "metadata": {},
   "source": [
    "### Paquetes"
   ]
  },
  {
   "cell_type": "code",
   "execution_count": null,
   "id": "888f9955",
   "metadata": {},
   "outputs": [],
   "source": [
    "import pandas as pd\n",
    "from dotenv import load_dotenv\n",
    "from pymongo import MongoClient\n",
    "import os.path\n",
    "import matplotlib.pyplot as plt"
   ]
  },
  {
   "cell_type": "markdown",
   "id": "49f851ff",
   "metadata": {},
   "source": [
    "> En este *notebook* se muestra cómo se prepararon los datos para la fase previa de la etapa de *forecasting*. Se termina obteniendo un `.csv` de datos sin huecos."
   ]
  },
  {
   "cell_type": "markdown",
   "id": "04a2f311",
   "metadata": {},
   "source": [
    "### Variables globales"
   ]
  },
  {
   "cell_type": "code",
   "execution_count": null,
   "id": "d7ad72a6",
   "metadata": {},
   "outputs": [],
   "source": [
    "CAMERA_NAME = \"TV08-MANUEL_ALCANTARA\"\n",
    "load_dotenv()\n",
    "MONGO_URL = os.environ[\"MONGO_URL\"]"
   ]
  },
  {
   "cell_type": "markdown",
   "id": "e76c369a",
   "metadata": {},
   "source": [
    "### Conexión con la base de datos"
   ]
  },
  {
   "cell_type": "markdown",
   "id": "bc951231",
   "metadata": {},
   "source": [
    "Levanto la base de datos con el comando `docker start 4164842acf82`"
   ]
  },
  {
   "cell_type": "code",
   "execution_count": null,
   "id": "0ad5c2c6",
   "metadata": {},
   "outputs": [],
   "source": [
    "mongo_client = MongoClient(MONGO_URL)\n",
    "db = mongo_client[\"traffic-analyzer\"]\n",
    "cam_collection = db[CAMERA_NAME]"
   ]
  },
  {
   "cell_type": "markdown",
   "id": "d91b4bba",
   "metadata": {},
   "source": [
    "### Carga la colección en un DataFrame"
   ]
  },
  {
   "cell_type": "code",
   "execution_count": null,
   "id": "85abed71",
   "metadata": {},
   "outputs": [],
   "source": [
    "df = pd.DataFrame(list(cam_collection.find()))"
   ]
  },
  {
   "cell_type": "markdown",
   "id": "189eb44e",
   "metadata": {},
   "source": [
    "### Preprocesa los datos en crudo"
   ]
  },
  {
   "cell_type": "code",
   "execution_count": null,
   "id": "d2647bac",
   "metadata": {},
   "outputs": [],
   "source": [
    "df[\"datetime\"] = df[\"datetime\"].str.slice_replace(19, 23, \"\") # quito lo del .jpg (me equivoqué)\n",
    "df[\"datetime\"] = pd.to_datetime(df[\"datetime\"]) # paso la fecha de string a datetime\n",
    "df = df[[\"datetime\", \"n_vehicles\"]] # me centro en las columnas de tiempo y número de vehículos\n",
    "df = df.set_index(\"datetime\") # hago la columna datetime el índice\n",
    "df = df.sort_values(by=\"datetime\") # ordeno por fecha"
   ]
  },
  {
   "cell_type": "markdown",
   "id": "52ad1244",
   "metadata": {},
   "source": [
    "### Gráfica de los datos en crudo"
   ]
  },
  {
   "cell_type": "markdown",
   "id": "7a0c400a",
   "metadata": {},
   "source": [
    "Se observa la discontinuidad en los datos debido a los baneos por parte del Ayuntamiento de Málaga. EL 9 de Mayo se comenzó a hacer peticiones al portal de datos abiertos del Ayunatamiento de Málaga. El 18 de Mayo se produjo el primer baneo. El 20 de Mayo se volvió a hacer peticiones desde otra máquina, que también se baneó el 23 de Mayo. "
   ]
  },
  {
   "cell_type": "code",
   "execution_count": null,
   "id": "8191b5c6",
   "metadata": {},
   "outputs": [],
   "source": [
    "fig, axis = plt.subplots(facecolor=\"white\", figsize=(22, 8))\n",
    "axis.plot(df[\"n_vehicles\"])"
   ]
  },
  {
   "cell_type": "markdown",
   "id": "cbd86b1d",
   "metadata": {},
   "source": [
    "Tras observar la gráfica, se decide desechar los datos desde el 23 de Mayo (incluido) en adelante. Trabajaremos con los datos desde el **9 de Mayo** hasta el **22 de Mayo** (ambos incluidos). Eso hace un total de 2 semanas de datos."
   ]
  },
  {
   "cell_type": "markdown",
   "id": "7e39908a",
   "metadata": {},
   "source": [
    "### Gráfica en zoom de los datos en crudo"
   ]
  },
  {
   "cell_type": "code",
   "execution_count": null,
   "id": "b5414403",
   "metadata": {},
   "outputs": [],
   "source": [
    "fig, axis = plt.subplots(facecolor=\"white\", figsize=(22, 8))\n",
    "axis.plot(df[\"n_vehicles\"][:120000])"
   ]
  },
  {
   "cell_type": "markdown",
   "id": "fc50d4d0",
   "metadata": {},
   "source": [
    "Se observa una disminución de tráfico el 15 de Mayo, algo que tiene sentido al ser un Domingo."
   ]
  },
  {
   "cell_type": "markdown",
   "id": "af1c519d",
   "metadata": {},
   "source": [
    "### Acotamos los datos entre las fechas `2022-05-09 : 2022-05-23`"
   ]
  },
  {
   "cell_type": "code",
   "execution_count": null,
   "id": "b2c07265",
   "metadata": {},
   "outputs": [],
   "source": [
    "df = df.loc['2022-05-09':'2022-05-23']"
   ]
  },
  {
   "cell_type": "markdown",
   "id": "4559e1c4",
   "metadata": {},
   "source": [
    "Nos quedaremos con los datos que van desde el **Lunes 9/5 (10:00) hasta Lunes 23/5 (10:00)** (dos semanas). El problema es que el **Miércoles 18/5** me cortan acceso a las 10:00. Me vuelvo a conectar el **Viernes 20/5** a las 11:00, perdiendo unas 48 horas de datos aproximadamente."
   ]
  },
  {
   "cell_type": "markdown",
   "id": "c856c611",
   "metadata": {},
   "source": [
    "### Gráfica de las 2 semanas de datos que se usarán"
   ]
  },
  {
   "cell_type": "code",
   "execution_count": null,
   "id": "f8602b11",
   "metadata": {},
   "outputs": [],
   "source": [
    "fig, axis = plt.subplots(facecolor=\"white\", figsize=(22, 8))\n",
    "axis.plot(df[\"n_vehicles\"])"
   ]
  },
  {
   "cell_type": "markdown",
   "id": "34d26d52",
   "metadata": {},
   "source": [
    "Se observa el parón de 48 horas por el baneo y un pequeño parón de 2 horas el día 16 por falta de señal."
   ]
  },
  {
   "cell_type": "markdown",
   "id": "6d423820",
   "metadata": {},
   "source": [
    "### Gráfica en zoom del parón de 2 horas"
   ]
  },
  {
   "cell_type": "code",
   "execution_count": null,
   "id": "4528a70f",
   "metadata": {},
   "outputs": [],
   "source": [
    "fig, axis = plt.subplots(facecolor=\"white\", figsize=(22, 8))\n",
    "axis.plot(df[\"n_vehicles\"][111500:115000]) "
   ]
  },
  {
   "cell_type": "markdown",
   "id": "20eb22e4",
   "metadata": {},
   "source": [
    "Se observa que el pequeño parón empieza el 16 de Mayo a las 8:25. Se vuelven a recibir imágenes a las 10:00.\n",
    "También hay algunas anomalías a las 7:00."
   ]
  },
  {
   "cell_type": "markdown",
   "id": "3d5086ec",
   "metadata": {},
   "source": [
    "### Aumento de datos para suplir el baneo de 48 horas"
   ]
  },
  {
   "cell_type": "markdown",
   "id": "8cedfced",
   "metadata": {},
   "source": [
    "Se optó por hacer un aumento de datos para poder disponer de las 2 semanas al completo. Es importante disponer al menos de dos semanas, puesto que visualmente parece que la estacionalidad es 1 semana y el ciclo se repite. Para suplir los datos que faltan, cogeremos los datos correspodientes a los mismos día, pero de la semana anterior. Cambiaremos ligeramente y aleatoriamente esos datos para que no sean exactamente iguales."
   ]
  },
  {
   "cell_type": "markdown",
   "id": "9a211a18",
   "metadata": {},
   "source": [
    "> Extraemos los datos que vamos a aumentar. Las 24 horas del Miércoles 11 de Mayo se modificarán ligeramente para usarlas como las 24 horas del Miércoles 18 de Mayo (que se nos baneó a las 10:00). Las 24 horas del Jueves 12 de Mayo se modificarán ligeramente para usarlas como las 24 horas del Jueves 19 de Mayo (que no se recogió ningún dato). Las 24 horas del Viernes 13 de Mayo se modificarán ligeramente para usarlas como las 24 horas del Viernes 20 de Mayo."
   ]
  },
  {
   "cell_type": "code",
   "execution_count": null,
   "id": "579f021d",
   "metadata": {},
   "outputs": [],
   "source": [
    "sample = df.loc['2022-05-11':'2022-05-13']"
   ]
  },
  {
   "cell_type": "markdown",
   "id": "b444797d",
   "metadata": {},
   "source": [
    "> Aumentamos los datos usando una máximo de modificación de 3 vehículos con respecto al valor original."
   ]
  },
  {
   "cell_type": "code",
   "execution_count": null,
   "id": "448aa6e0",
   "metadata": {},
   "outputs": [],
   "source": [
    "from tsaug import Drift\n",
    "augmenter = (Drift(max_drift=0.05))\n",
    "aug = augmenter.augment(sample[\"n_vehicles\"].to_numpy())"
   ]
  },
  {
   "cell_type": "markdown",
   "id": "13424e6e",
   "metadata": {},
   "source": [
    "Comprobamos que los valores se parecen"
   ]
  },
  {
   "cell_type": "code",
   "execution_count": null,
   "id": "0e6d1861",
   "metadata": {},
   "outputs": [],
   "source": [
    "len(aug) == len(sample)"
   ]
  },
  {
   "cell_type": "code",
   "execution_count": null,
   "id": "1dccb398",
   "metadata": {},
   "outputs": [],
   "source": [
    "aug[0:200]"
   ]
  },
  {
   "cell_type": "code",
   "execution_count": null,
   "id": "9fe640d9",
   "metadata": {},
   "outputs": [],
   "source": [
    "sample[\"n_vehicles\"].to_numpy()[0:200] "
   ]
  },
  {
   "cell_type": "code",
   "execution_count": null,
   "id": "0204a51d",
   "metadata": {},
   "outputs": [],
   "source": [
    "aug = pd.DataFrame(aug, columns=[\"n_vehicles\"])\n",
    "\n",
    "aug[aug[\"n_vehicles\"] < 0]\n",
    "aug[aug[\"n_vehicles\"] > 0]"
   ]
  },
  {
   "cell_type": "code",
   "execution_count": null,
   "id": "552a396f",
   "metadata": {},
   "outputs": [],
   "source": [
    "sample[sample[\"n_vehicles\"] < 0]\n",
    "sample[sample[\"n_vehicles\"] > 0]"
   ]
  },
  {
   "cell_type": "markdown",
   "id": "5859e5b5",
   "metadata": {},
   "source": [
    "### Colocamos los datos aumentados en el hueco"
   ]
  },
  {
   "cell_type": "code",
   "execution_count": null,
   "id": "8cac9a9f",
   "metadata": {},
   "outputs": [],
   "source": [
    "fig, axis = plt.subplots(facecolor=\"white\", figsize=(22, 8))\n",
    "axis.plot(df[\"n_vehicles\"])"
   ]
  },
  {
   "cell_type": "markdown",
   "id": "c34214df",
   "metadata": {},
   "source": [
    "Vamos a trabajar con 3 grupos. EL primer grupo contiene los datos desde el Lunes 9/5 hasta el Martes 17/5 (incluidos). Es segundo grupo corresponde a los datos aumentados: Miércoles 18/5 al Viernes 20/5 (incluidos). El tercer grupo corresponde con los datos del Sábado 21/5 hasta el Lunes 23/5 (incluidos)."
   ]
  },
  {
   "cell_type": "code",
   "execution_count": null,
   "id": "06904def",
   "metadata": {},
   "outputs": [],
   "source": [
    "group_1 = df.loc['2022-05-09':'2022-05-17']\n",
    "group_2 = aug\n",
    "group_3 = df.loc['2022-05-21':'2022-05-23']"
   ]
  },
  {
   "cell_type": "markdown",
   "id": "811ce780",
   "metadata": {},
   "source": [
    "Ahora podemos concatenar esos tres `Dataframes`. Pero antes tenemos que añadir la columna `datetime` a los datos aumentados, pero añadiendole 7 días a cada fecha."
   ]
  },
  {
   "cell_type": "code",
   "execution_count": null,
   "id": "9a912e3d",
   "metadata": {},
   "outputs": [],
   "source": [
    "group_2.index = sample.index # le ponemos el mismo índice que los de la semana anterior\n",
    "group_2.index = group_2.index + pd.DateOffset(days=7) # le sumamos 7 a las fechas de la semana anterior"
   ]
  },
  {
   "cell_type": "markdown",
   "id": "1696b727",
   "metadata": {},
   "source": [
    "> Concatenamos los 3 dataframes."
   ]
  },
  {
   "cell_type": "code",
   "execution_count": null,
   "id": "b44871e9",
   "metadata": {},
   "outputs": [],
   "source": [
    "df = pd.concat([group_1, group_2, group_3])"
   ]
  },
  {
   "cell_type": "markdown",
   "id": "435f3efc",
   "metadata": {},
   "source": [
    "### Datos tras rellenar el hueco con los datos aumentados"
   ]
  },
  {
   "cell_type": "code",
   "execution_count": null,
   "id": "7b8e2a11",
   "metadata": {},
   "outputs": [],
   "source": [
    "fig, axis = plt.subplots(facecolor=\"white\", figsize=(22, 8))\n",
    "axis.plot(df[\"n_vehicles\"])"
   ]
  },
  {
   "cell_type": "markdown",
   "id": "23ef2410",
   "metadata": {},
   "source": [
    "### Ahora vamos a hacer lo mismo con las 2 horas de datos corruptos"
   ]
  },
  {
   "cell_type": "markdown",
   "id": "ab8260a5",
   "metadata": {},
   "source": [
    "Cogemos esas mismas dos horas en la semana anterior y hacemos aumento de datos para obtener las 2 horas perdidas.\n",
    "Como el mismo día de la semana anterior es lunes y no tenemos las horas que nos hacen falta, se cogerán esas horas del martes en su lugar."
   ]
  },
  {
   "cell_type": "markdown",
   "id": "fd9bb1db",
   "metadata": {},
   "source": [
    "> Separamos los datos en 3 grupos: antes del pequeño parón, los datos aumentados y después del parón."
   ]
  },
  {
   "cell_type": "code",
   "execution_count": null,
   "id": "60903815",
   "metadata": {},
   "outputs": [],
   "source": [
    "hours = df.loc['2022-05-10 08:25:40':'2022-05-10 09:59:04']\n",
    "augmenter = (Drift(max_drift=0.05))\n",
    "aug = augmenter.augment(hours[\"n_vehicles\"].to_numpy())\n",
    "aug = pd.DataFrame(aug, columns=[\"n_vehicles\"])\n",
    "group_1 = df.loc['2022-05-09':'2022-05-16 08:25:39']\n",
    "group_2 = hours\n",
    "group_3 = df.loc['2022-05-16 09:59:05':'2022-05-23']\n",
    "group_2.index = hours.index \n",
    "group_2.index = group_2.index + pd.DateOffset(days=6) # le sumamos 6 a las fechas de la semana anterior\n",
    "df = pd.concat([group_1, group_2, group_3])\n",
    "df.to_csv(\"ts_tv08.csv\")"
   ]
  },
  {
   "cell_type": "markdown",
   "id": "0a1761b3",
   "metadata": {},
   "source": [
    "### Gráfica de cómo queda al final la serie temporal"
   ]
  },
  {
   "cell_type": "code",
   "execution_count": null,
   "id": "01f9331f",
   "metadata": {},
   "outputs": [],
   "source": [
    "fig, axis = plt.subplots(facecolor=\"white\", figsize=(22, 8))\n",
    "axis.plot(df[\"n_vehicles\"])"
   ]
  }
 ],
 "metadata": {
  "kernelspec": {
   "display_name": "Python [conda env:traffic-analyzer]",
   "language": "python",
   "name": "conda-env-traffic-analyzer-py"
  },
  "language_info": {
   "codemirror_mode": {
    "name": "ipython",
    "version": 3
   },
   "file_extension": ".py",
   "mimetype": "text/x-python",
   "name": "python",
   "nbconvert_exporter": "python",
   "pygments_lexer": "ipython3",
   "version": "3.8.13"
  }
 },
 "nbformat": 4,
 "nbformat_minor": 5
}
